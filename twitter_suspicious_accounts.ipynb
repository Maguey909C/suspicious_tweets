{
 "cells": [
  {
   "cell_type": "markdown",
   "metadata": {},
   "source": [
    "### Imports"
   ]
  },
  {
   "cell_type": "code",
   "execution_count": 1,
   "metadata": {
    "collapsed": true
   },
   "outputs": [],
   "source": [
    "import json\n",
    "import time\n",
    "import os\n",
    "import pandas as pd\n",
    "import numpy as np\n",
    "import datetime as dt\n",
    "import collections as c\n",
    "from collections import Counter\n",
    "import re\n",
    "from textblob import TextBlob\n",
    "from sklearn.feature_extraction.text import CountVectorizer\n",
    "from sklearn.model_selection import train_test_split\n",
    "from sklearn.naive_bayes import MultinomialNB\n",
    "from sklearn.metrics import f1_score\n",
    "from textblob import TextBlob\n",
    "import seaborn as sns\n",
    "import matplotlib.pyplot as plt\n",
    "import sumy\n",
    "from sumy.parsers.plaintext import PlaintextParser\n",
    "%matplotlib inline"
   ]
  },
  {
   "cell_type": "markdown",
   "metadata": {},
   "source": [
    "### Functions"
   ]
  },
  {
   "cell_type": "code",
   "execution_count": 2,
   "metadata": {
    "collapsed": true
   },
   "outputs": [],
   "source": [
    "def seaborn_graph(x,y,dataframe,title,xlabel,ylabel):\n",
    "    \"\"\" Makes a seaborn graph with an x and y\n",
    "    x = x axis values based on dataframe\n",
    "    y = y axis values based on dataframe \n",
    "    dataframe = pandas dataframe\n",
    "    title = title\n",
    "    xlabels = label for the x axis\n",
    "    ylabels = lables for the y axis\n",
    "    \"\"\"\n",
    "    sns.set(style=\"whitegrid\")\n",
    "\n",
    "    f, ax = plt.subplots(figsize=(7, 7))\n",
    "\n",
    "    sns.set_color_codes(\"pastel\")\n",
    "    sns.barplot(x=x, y=y, data=dataframe);\n",
    "\n",
    "    plt.title(title, fontsize=15)\n",
    "\n",
    "    ax.set_ylabel(ylabel, fontsize=10)\n",
    "    ax.set_xlabel(xlabel, fontsize=10)\n",
    "\n",
    "    sns.despine(left=True, bottom=False);\n",
    "    \n",
    "    \n",
    "def df_to_vc_df(df,col_name,one_vc_col_name,second_vc_col_name):\n",
    "    \"\"\"\n",
    "    INPUT: Dataframe, what column you want, and the name of the new columns in new df\n",
    "    OUTPUT: Returns a datafame of value counts based on another dataframe passed in\n",
    "    df - original dataframe\n",
    "    col_name - column from original df you want to take value counts\n",
    "    one_vc_col_name - name of the first column for the new value count df\n",
    "    second_vc_col_name - name of the second column for nwe value count df\n",
    "    \"\"\"\n",
    "    new_df = df[str(col_name)].value_counts().to_frame().reset_index()\n",
    "    new_df = new_df.rename(columns={'index':str(one_vc_col_name), str(col_name):str(second_vc_col_name)})\n",
    "    return new_df\n",
    "\n",
    "\n",
    "def indicies(df,prediction_array):\n",
    "    \"\"\"\n",
    "    INPUT: Dataframe and prediction array\n",
    "    OUTPUT: Subset Dataframe of terrorist comments within original dataframe\n",
    "    \"\"\"\n",
    "    \n",
    "    find_terrorists = np.argwhere(prediction_array)\n",
    "    stuff =[]\n",
    "    for i in range(len(find_terrorists)):\n",
    "        stuff.append(find_terrorists[i][0])\n",
    "    \n",
    "    return df.iloc[stuff,:]\n",
    "\n",
    "\n",
    "def sentiments(df):\n",
    "    \n",
    "    \"\"\"\n",
    "    INPUT: Dataframe\n",
    "    OUTPUT: Printed values of comments polarity and sentiment above a threshold\n",
    "    \"\"\"\n",
    "    \n",
    "    for comment in df.user_text:\n",
    "        sentence = TextBlob(comment)\n",
    "        polarity, senti = (np.asarray(sentence.sentiment))\n",
    "        if polarity > .5 or senti >.5: # You can change the range of polarity here\n",
    "            print ('User_id:', )\n",
    "            print('COMMENT:', comment)\n",
    "            print('POLARITY:', polarity)\n",
    "            print ('SENTIMENT:', senti)\n",
    "            \n",
    "def suspended_accounts(df):\n",
    "    suspended_a = []\n",
    "    for i in df.index.tolist():\n",
    "        for value in df.user_text[i].split('\\n'):\n",
    "            if 'https' in value:\n",
    "                suspended_a.append(value)\n",
    "    return suspended_a\n",
    "    \n",
    "def get_tweets(tweet_str):\n",
    "    '''\n",
    "    INPUT: JSON string of tweets\n",
    "    OUTPUT: list of length 7 w/ the following values:\n",
    "            tweet_id\n",
    "            text\n",
    "            user_id\n",
    "            timestamp_ms\n",
    "            created_at\n",
    "            lang\n",
    "            possibly_sensitive\n",
    "    '''\n",
    "    try:\n",
    "        tweet = json.loads(tweet_str)\n",
    "        tweet_id = tweet['id']\n",
    "        text = tweet['text']\n",
    "        user_id = tweet.get('user')\n",
    "        screen_name = tweet.get('user').get('screen_name')\n",
    "        name = tweet.get('user').get('name')\n",
    "        follower_count = tweet.get('user').get('follower_count')\n",
    "        friend_count = tweet.get('user').get('friend_count')\n",
    "        if user_id:\n",
    "            user_id = user_id.get('id')\n",
    "        timestamp_ms = tweet.get('timestamp_ms')  # machine readable timestamp\n",
    "        created_at = tweet.get('created_at')  # human readable timestamp\n",
    "        created_at = time.strftime('%Y-%m-%d %H:%M:%S',\n",
    "                        time.strptime(created_at,'%a %b %d %H:%M:%S +0000 %Y'))\n",
    "        lang = tweet.get('lang')\n",
    "        possibly_sensitive = tweet.get('possibly_sensitive')\n",
    "        place = tweet.get('place')\n",
    "        description = tweet.get('description')\n",
    "        time_zone = tweet.get('time_zone')\n",
    "        \n",
    "        return [tweet_id, text, user_id, screen_name, name, follower_count, friend_count, timestamp_ms, created_at, lang,\n",
    "                    possibly_sensitive, place, description, time_zone]\n",
    "    except ValueError:\n",
    "        pass"
   ]
  },
  {
   "cell_type": "code",
   "execution_count": 3,
   "metadata": {},
   "outputs": [
    {
     "name": "stdout",
     "output_type": "stream",
     "text": [
      "/Users/chaserenick/Downloads/twitter_files/a_0_1.json\n",
      "/Users/chaserenick/Downloads/twitter_files/a_0_2.json\n",
      "/Users/chaserenick/Downloads/twitter_files/a_1_1.json\n",
      "/Users/chaserenick/Downloads/twitter_files/a_1_2.json\n",
      "/Users/chaserenick/Downloads/twitter_files/a_1_3.json\n",
      "/Users/chaserenick/Downloads/twitter_files/a_1_6.json\n",
      "/Users/chaserenick/Downloads/twitter_files/a_1_7.json\n",
      "/Users/chaserenick/Downloads/twitter_files/a_1_9.json\n",
      "/Users/chaserenick/Downloads/twitter_files/a_2_1.json\n",
      "/Users/chaserenick/Downloads/twitter_files/a_2_2.json\n"
     ]
    }
   ],
   "source": [
    "#Making it easy to make the original dataframe without a database\n",
    "import os\n",
    "\n",
    "ids =[]\n",
    "user_ids = []\n",
    "screen_n = []\n",
    "nam = []\n",
    "follow_c = []\n",
    "friend_c = []\n",
    "txt = []\n",
    "timestamp = []\n",
    "createdat= []\n",
    "language = []\n",
    "sensitive = []\n",
    "p = []\n",
    "descript = []\n",
    "tz = []\n",
    "\n",
    "path = '/Users/chaserenick/Downloads/twitter_files/'\n",
    "\n",
    "for filename in os.listdir(path):\n",
    "        each_file = \"/Users/chaserenick/Downloads/twitter_files/\" + str(filename)\n",
    "        print (each_file)\n",
    "        with open(each_file, 'r') as f:\n",
    "            for line in f:\n",
    "                line = f.readline() # read only the first tweet/line\n",
    "                tweet = json.loads(line) # load it as Python dict\n",
    "\n",
    "        #     #     print(json.dumps(tweet, indent=4)) # pretty-print\n",
    "                t = (json.dumps(tweet, indent=4))\n",
    "        # #         print (len(line))\n",
    "\n",
    "                tweet_id, text, user_id, screen_name, name, follower_count, friend_count, timestamp_ms, created_at, lang, possibly_sensitive, place, description, time_zone = get_tweets(t)\n",
    "                \n",
    "                ids.append(tweet_id)\n",
    "                txt.append(text)\n",
    "                user_ids.append(user_id)\n",
    "                screen_n.append(screen_name)\n",
    "                nam.append(name)\n",
    "                follow_c.append(follower_count)\n",
    "                friend_c.append(friend_count)\n",
    "                timestamp.append(timestamp_ms)\n",
    "                createdat.append(created_at)\n",
    "                language.append(lang)\n",
    "                sensitive.append(possibly_sensitive)\n",
    "                p.append(place)\n",
    "                descript.append(description)\n",
    "                tz.append(time_zone)\n",
    "\n",
    "#         print (get_tweets(t))"
   ]
  },
  {
   "cell_type": "markdown",
   "metadata": {
    "collapsed": true
   },
   "source": [
    "### Build Training Dataframe from Tweets"
   ]
  },
  {
   "cell_type": "code",
   "execution_count": 4,
   "metadata": {
    "collapsed": true
   },
   "outputs": [],
   "source": [
    "df = {'twitter_id': ids,'user_text':txt,'timestamp':timestamp,\n",
    "      'created_at':createdat,'language':language,'is_sensitive': sensitive,'place':p, \n",
    "      'description':descript, 'time_zone':tz, 'user_id':user_ids, \n",
    "      'screen_name':screen_n, 'name':nam, 'follower_count':follow_c, 'friend_count': friend_c}\n",
    "twitter_df = pd.DataFrame(data=df)"
   ]
  },
  {
   "cell_type": "code",
   "execution_count": 5,
   "metadata": {
    "collapsed": true
   },
   "outputs": [],
   "source": [
    "# print (twitter_df.shape)"
   ]
  },
  {
   "cell_type": "code",
   "execution_count": 6,
   "metadata": {},
   "outputs": [
    {
     "data": {
      "text/html": [
       "<div>\n",
       "<style>\n",
       "    .dataframe thead tr:only-child th {\n",
       "        text-align: right;\n",
       "    }\n",
       "\n",
       "    .dataframe thead th {\n",
       "        text-align: left;\n",
       "    }\n",
       "\n",
       "    .dataframe tbody tr th {\n",
       "        vertical-align: top;\n",
       "    }\n",
       "</style>\n",
       "<table border=\"1\" class=\"dataframe\">\n",
       "  <thead>\n",
       "    <tr style=\"text-align: right;\">\n",
       "      <th></th>\n",
       "      <th>created_at</th>\n",
       "      <th>description</th>\n",
       "      <th>follower_count</th>\n",
       "      <th>friend_count</th>\n",
       "      <th>is_sensitive</th>\n",
       "      <th>language</th>\n",
       "      <th>name</th>\n",
       "      <th>place</th>\n",
       "      <th>screen_name</th>\n",
       "      <th>time_zone</th>\n",
       "      <th>timestamp</th>\n",
       "      <th>twitter_id</th>\n",
       "      <th>user_id</th>\n",
       "      <th>user_text</th>\n",
       "    </tr>\n",
       "  </thead>\n",
       "  <tbody>\n",
       "    <tr>\n",
       "      <th>0</th>\n",
       "      <td>2017-03-31 06:34:15</td>\n",
       "      <td>None</td>\n",
       "      <td>None</td>\n",
       "      <td>None</td>\n",
       "      <td>None</td>\n",
       "      <td>en</td>\n",
       "      <td>Dar &amp; POTUS TRUMP</td>\n",
       "      <td>None</td>\n",
       "      <td>DarLovesAmerica</td>\n",
       "      <td>None</td>\n",
       "      <td>1490942055538</td>\n",
       "      <td>847698537768902656</td>\n",
       "      <td>216498790</td>\n",
       "      <td>RT @miamivandynyu: @TEN_GOP And was fired by O...</td>\n",
       "    </tr>\n",
       "    <tr>\n",
       "      <th>1</th>\n",
       "      <td>2017-03-31 06:34:21</td>\n",
       "      <td>None</td>\n",
       "      <td>None</td>\n",
       "      <td>None</td>\n",
       "      <td>False</td>\n",
       "      <td>en</td>\n",
       "      <td>Isis Love</td>\n",
       "      <td>None</td>\n",
       "      <td>ItsIsisLove</td>\n",
       "      <td>None</td>\n",
       "      <td>1490942061445</td>\n",
       "      <td>847698562544578562</td>\n",
       "      <td>260550501</td>\n",
       "      <td>Click here to watch it: https://t.co/WUHDFnBij...</td>\n",
       "    </tr>\n",
       "    <tr>\n",
       "      <th>2</th>\n",
       "      <td>2017-03-31 06:34:25</td>\n",
       "      <td>None</td>\n",
       "      <td>None</td>\n",
       "      <td>None</td>\n",
       "      <td>False</td>\n",
       "      <td>en</td>\n",
       "      <td>Nn Gn</td>\n",
       "      <td>None</td>\n",
       "      <td>59nathang</td>\n",
       "      <td>None</td>\n",
       "      <td>1490942065924</td>\n",
       "      <td>847698581330972672</td>\n",
       "      <td>96367689</td>\n",
       "      <td>❤Holy world be aware🔥real islam Quran is Isis🔥...</td>\n",
       "    </tr>\n",
       "    <tr>\n",
       "      <th>3</th>\n",
       "      <td>2017-03-31 06:34:31</td>\n",
       "      <td>None</td>\n",
       "      <td>None</td>\n",
       "      <td>None</td>\n",
       "      <td>None</td>\n",
       "      <td>in</td>\n",
       "      <td>✌✌✌</td>\n",
       "      <td>None</td>\n",
       "      <td>HasdungHutagaol</td>\n",
       "      <td>None</td>\n",
       "      <td>1490942071691</td>\n",
       "      <td>847698605519417344</td>\n",
       "      <td>1722511368</td>\n",
       "      <td>RT @SuryoUdoro: Model dan cara2 ISIS Timur Ten...</td>\n",
       "    </tr>\n",
       "    <tr>\n",
       "      <th>4</th>\n",
       "      <td>2017-03-31 06:34:39</td>\n",
       "      <td>None</td>\n",
       "      <td>None</td>\n",
       "      <td>None</td>\n",
       "      <td>None</td>\n",
       "      <td>en</td>\n",
       "      <td>Nn Gn</td>\n",
       "      <td>None</td>\n",
       "      <td>59nathang</td>\n",
       "      <td>None</td>\n",
       "      <td>1490942079013</td>\n",
       "      <td>847698636230189057</td>\n",
       "      <td>96367689</td>\n",
       "      <td>RT @59nathang: ❤Holy world be aware🔥real islam...</td>\n",
       "    </tr>\n",
       "  </tbody>\n",
       "</table>\n",
       "</div>"
      ],
      "text/plain": [
       "            created_at description follower_count friend_count is_sensitive  \\\n",
       "0  2017-03-31 06:34:15        None           None         None         None   \n",
       "1  2017-03-31 06:34:21        None           None         None        False   \n",
       "2  2017-03-31 06:34:25        None           None         None        False   \n",
       "3  2017-03-31 06:34:31        None           None         None         None   \n",
       "4  2017-03-31 06:34:39        None           None         None         None   \n",
       "\n",
       "  language               name place      screen_name time_zone      timestamp  \\\n",
       "0       en  Dar & POTUS TRUMP  None  DarLovesAmerica      None  1490942055538   \n",
       "1       en          Isis Love  None      ItsIsisLove      None  1490942061445   \n",
       "2       en              Nn Gn  None        59nathang      None  1490942065924   \n",
       "3       in                ✌✌✌  None  HasdungHutagaol      None  1490942071691   \n",
       "4       en              Nn Gn  None        59nathang      None  1490942079013   \n",
       "\n",
       "           twitter_id     user_id  \\\n",
       "0  847698537768902656   216498790   \n",
       "1  847698562544578562   260550501   \n",
       "2  847698581330972672    96367689   \n",
       "3  847698605519417344  1722511368   \n",
       "4  847698636230189057    96367689   \n",
       "\n",
       "                                           user_text  \n",
       "0  RT @miamivandynyu: @TEN_GOP And was fired by O...  \n",
       "1  Click here to watch it: https://t.co/WUHDFnBij...  \n",
       "2  ❤Holy world be aware🔥real islam Quran is Isis🔥...  \n",
       "3  RT @SuryoUdoro: Model dan cara2 ISIS Timur Ten...  \n",
       "4  RT @59nathang: ❤Holy world be aware🔥real islam...  "
      ]
     },
     "execution_count": 6,
     "metadata": {},
     "output_type": "execute_result"
    }
   ],
   "source": [
    "twitter_df.head()"
   ]
  },
  {
   "cell_type": "code",
   "execution_count": 7,
   "metadata": {},
   "outputs": [
    {
     "name": "stdout",
     "output_type": "stream",
     "text": [
      "Comment: 0 RT @miamivandynyu: @TEN_GOP And was fired by Obama because he knew Obama was doing nothing about ISIS.\n",
      "\n",
      "Comment: 1 Click here to watch it: https://t.co/WUHDFnBijI\n",
      "Latina solo model Isis Love showing off ...\n",
      "👻Add me on snapchat: Se… https://t.co/CWmsfukp2Y\n",
      "\n",
      "Comment: 2 ❤Holy world be aware🔥real islam Quran is Isis🔥🐉🐉91%Islam murders rapes &amp; fights within its own family🔥outside it do… https://t.co/46MpOFQNT7\n",
      "\n"
     ]
    }
   ],
   "source": [
    "# To actually see the comments \n",
    "count = 0\n",
    "for i in range(0,3):\n",
    "    count +=1\n",
    "    print ('Comment:',i, twitter_df.user_text[i])\n",
    "    print ('') #stopped at 807"
   ]
  },
  {
   "cell_type": "markdown",
   "metadata": {},
   "source": [
    "### Creating Training Labels"
   ]
  },
  {
   "cell_type": "code",
   "execution_count": 8,
   "metadata": {
    "collapsed": true
   },
   "outputs": [],
   "source": [
    "zero_array = np.zeros((1,1608))"
   ]
  },
  {
   "cell_type": "code",
   "execution_count": 9,
   "metadata": {
    "collapsed": true
   },
   "outputs": [],
   "source": [
    "terrorist_array = [2,\n",
    "                   4,\n",
    "                   11,\n",
    "                   16,\n",
    "                   22,\n",
    "                   23,\n",
    "                   24,\n",
    "                   27,\n",
    "                   36,\n",
    "                   42,\n",
    "                   55,\n",
    "                   56,\n",
    "                   59,\n",
    "                   60,\n",
    "                   63,\n",
    "                   85,\n",
    "                   94,\n",
    "                   103,\n",
    "                   104,\n",
    "                   135,\n",
    "                   148,\n",
    "                   157,\n",
    "                   167,\n",
    "                   172,\n",
    "                   183,\n",
    "                   184,\n",
    "                   242,\n",
    "                   246,\n",
    "                   259,\n",
    "                   268,\n",
    "                   295,\n",
    "                   321,\n",
    "                   329,\n",
    "                   403,\n",
    "                   442,\n",
    "                   460,\n",
    "                   468,\n",
    "                   482,\n",
    "                   485,\n",
    "                   486,\n",
    "                   487,\n",
    "                   488,\n",
    "                   489,\n",
    "                   490,\n",
    "                   493,\n",
    "                   502,\n",
    "                   566,\n",
    "                   572,\n",
    "                   599,\n",
    "                   615,\n",
    "                   625,\n",
    "                   630,\n",
    "                   633,\n",
    "                   652,\n",
    "                   660,\n",
    "                   694,\n",
    "                   700,\n",
    "                   745,\n",
    "                   754,\n",
    "                   759,\n",
    "                   764,\n",
    "                   788,\n",
    "                   803,\n",
    "                   807,\n",
    "                   863,\n",
    "                   865,\n",
    "                   888,\n",
    "                   899,\n",
    "                   924,\n",
    "                   973,\n",
    "                   975,\n",
    "                   980,\n",
    "                   911,\n",
    "                   992,\n",
    "                   1050,\n",
    "                   1088,\n",
    "                   1118,\n",
    "                   1119,\n",
    "                   1159,\n",
    "                   1162,\n",
    "                   1168,\n",
    "                   1123,\n",
    "                   1208,\n",
    "                   1213,\n",
    "                   1250,\n",
    "                   1279,\n",
    "                   1272,\n",
    "                   1287,\n",
    "                   1291,\n",
    "                   1313,\n",
    "                   1320,\n",
    "                   1337,\n",
    "                   1351,\n",
    "                   1352,\n",
    "                   1356,\n",
    "                   1368,\n",
    "                   1395,\n",
    "                   1418,\n",
    "                   1429,\n",
    "                   1462,\n",
    "                   1504,\n",
    "                   1514,\n",
    "                   1538,\n",
    "                   1548,\n",
    "                   1546,\n",
    "                   1571,\n",
    "                   1575,\n",
    "                   1600,\n",
    "                   1605]"
   ]
  },
  {
   "cell_type": "code",
   "execution_count": 10,
   "metadata": {
    "collapsed": true
   },
   "outputs": [],
   "source": [
    "np.put(zero_array,terrorist_array,1)"
   ]
  },
  {
   "cell_type": "code",
   "execution_count": 11,
   "metadata": {
    "collapsed": true
   },
   "outputs": [],
   "source": [
    "zero_array = zero_array.tolist()[0]\n",
    "y =zero_array\n",
    "twitter_df['terror_or_not'] = y"
   ]
  },
  {
   "cell_type": "markdown",
   "metadata": {},
   "source": [
    "### Verifying Dimensonality with new labels"
   ]
  },
  {
   "cell_type": "code",
   "execution_count": 12,
   "metadata": {},
   "outputs": [
    {
     "data": {
      "text/plain": [
       "(1608, 15)"
      ]
     },
     "execution_count": 12,
     "metadata": {},
     "output_type": "execute_result"
    }
   ],
   "source": [
    "twitter_df.shape"
   ]
  },
  {
   "cell_type": "markdown",
   "metadata": {},
   "source": [
    "### Vectorizing"
   ]
  },
  {
   "cell_type": "code",
   "execution_count": 13,
   "metadata": {
    "collapsed": true
   },
   "outputs": [],
   "source": [
    "#max_df=0.95,min_df=2,max_features=1000,stop_words='english'\n",
    "# REMEMBER TO TRY AND USE DIFFERENT VECTORIZERS \n",
    "vectorizer = CountVectorizer(max_features=1000,stop_words='english',lowercase=False,strip_accents='unicode')"
   ]
  },
  {
   "cell_type": "markdown",
   "metadata": {
    "collapsed": true
   },
   "source": [
    "#### Building a Naieve Model to Identify Terrorists"
   ]
  },
  {
   "cell_type": "code",
   "execution_count": 14,
   "metadata": {
    "collapsed": true
   },
   "outputs": [],
   "source": [
    "x_train, x_test, y_train, y_test = train_test_split(twitter_df.user_text,\n",
    "                                        twitter_df.terror_or_not, test_size=.3,\n",
    "                                        random_state=42)"
   ]
  },
  {
   "cell_type": "code",
   "execution_count": 15,
   "metadata": {
    "collapsed": true
   },
   "outputs": [],
   "source": [
    "X = vectorizer.fit_transform(x_train)\n",
    "x = vectorizer.transform(x_test)"
   ]
  },
  {
   "cell_type": "code",
   "execution_count": 16,
   "metadata": {
    "collapsed": true
   },
   "outputs": [],
   "source": [
    "model = MultinomialNB().fit(X,y_train)"
   ]
  },
  {
   "cell_type": "code",
   "execution_count": 17,
   "metadata": {
    "collapsed": true
   },
   "outputs": [],
   "source": [
    "predictions = model.predict(x)"
   ]
  },
  {
   "cell_type": "markdown",
   "metadata": {},
   "source": [
    "### Evalaution Metrics"
   ]
  },
  {
   "cell_type": "code",
   "execution_count": 18,
   "metadata": {},
   "outputs": [
    {
     "data": {
      "text/plain": [
       "0.84615384615384615"
      ]
     },
     "execution_count": 18,
     "metadata": {},
     "output_type": "execute_result"
    }
   ],
   "source": [
    "f1_score(y_test,predictions)"
   ]
  },
  {
   "cell_type": "code",
   "execution_count": 19,
   "metadata": {},
   "outputs": [
    {
     "data": {
      "text/plain": [
       "array([[438,   9],\n",
       "       [  3,  33]])"
      ]
     },
     "execution_count": 19,
     "metadata": {},
     "output_type": "execute_result"
    }
   ],
   "source": [
    "from sklearn.metrics import confusion_matrix\n",
    "confusion_m = confusion_matrix(y_test, predictions, labels=None)\n",
    "confusion_m"
   ]
  },
  {
   "cell_type": "markdown",
   "metadata": {},
   "source": [
    "#### Conclusions:\n",
    "1. Based on training model does well at one thing - identifying other users on twitter who have reported possible accounts linked to terrorism @Twitter Safety.\n",
    "2. Examining accounts which have not been suspended would be interesting to determine which if any should have been based on their content."
   ]
  },
  {
   "cell_type": "markdown",
   "metadata": {},
   "source": [
    "### Read in Test Set of Tweets "
   ]
  },
  {
   "cell_type": "code",
   "execution_count": 20,
   "metadata": {},
   "outputs": [
    {
     "name": "stdout",
     "output_type": "stream",
     "text": [
      "/Users/chaserenick/Downloads/twitter/a_2_3.json\n",
      "/Users/chaserenick/Downloads/twitter/a_2_6.json\n",
      "/Users/chaserenick/Downloads/twitter/a_2_9.json\n"
     ]
    }
   ],
   "source": [
    "ids =[]\n",
    "user_ids = []\n",
    "screen_n = []\n",
    "nam = []\n",
    "follow_c = []\n",
    "friend_c = []\n",
    "txt = []\n",
    "timestamp = []\n",
    "createdat= []\n",
    "language = []\n",
    "sensitive = []\n",
    "p = []\n",
    "descript = []\n",
    "tz = []\n",
    "\n",
    "path1 = '/Users/chaserenick/Downloads/twitter/'\n",
    "\n",
    "for filename in os.listdir(path1):\n",
    "        each_file = \"/Users/chaserenick/Downloads/twitter/\" + str(filename)\n",
    "        print (each_file)\n",
    "        with open(each_file, 'r') as f:\n",
    "# with open('/Users/chaserenick/Downloads/twitter/a_2_3.json', 'r') as f:\n",
    "            for line in f:\n",
    "                line = f.readline() # read only the first tweet/line\n",
    "                tweet = json.loads(line) # load it as Python dict\n",
    "                t = (json.dumps(tweet, indent=4))\n",
    "\n",
    "                tweet_id, text, user_id, screen_name, name, follower_count, friend_count, timestamp_ms, created_at, lang, possibly_sensitive, place, description, time_zone = get_tweets(t)\n",
    "\n",
    "                ids.append(tweet_id)\n",
    "                txt.append(text)\n",
    "                user_ids.append(user_id)\n",
    "                screen_n.append(screen_name)\n",
    "                nam.append(name)\n",
    "                follow_c.append(follower_count)\n",
    "                friend_c.append(friend_count)\n",
    "                timestamp.append(timestamp_ms)\n",
    "                createdat.append(created_at)\n",
    "                language.append(lang)\n",
    "                sensitive.append(possibly_sensitive)\n",
    "                p.append(place)\n",
    "                descript.append(description)\n",
    "                tz.append(time_zone)"
   ]
  },
  {
   "cell_type": "markdown",
   "metadata": {},
   "source": [
    "### Build a new dataframe of Test Data"
   ]
  },
  {
   "cell_type": "code",
   "execution_count": 21,
   "metadata": {
    "collapsed": true
   },
   "outputs": [],
   "source": [
    "df2 = {'twitter_id': ids,'user_text':txt,'timestamp':timestamp,\n",
    "      'created_at':createdat,'language':language,'is_sensitive': sensitive,'place':p, \n",
    "      'description':descript, 'time_zone':tz, 'user_id':user_ids, \n",
    "      'screen_name':screen_n, 'name':nam, 'follower_count':follow_c, 'friend_count': friend_c}\n",
    "twitter_df2 = pd.DataFrame(data=df2)"
   ]
  },
  {
   "cell_type": "code",
   "execution_count": 22,
   "metadata": {},
   "outputs": [
    {
     "data": {
      "text/html": [
       "<div>\n",
       "<style>\n",
       "    .dataframe thead tr:only-child th {\n",
       "        text-align: right;\n",
       "    }\n",
       "\n",
       "    .dataframe thead th {\n",
       "        text-align: left;\n",
       "    }\n",
       "\n",
       "    .dataframe tbody tr th {\n",
       "        vertical-align: top;\n",
       "    }\n",
       "</style>\n",
       "<table border=\"1\" class=\"dataframe\">\n",
       "  <thead>\n",
       "    <tr style=\"text-align: right;\">\n",
       "      <th></th>\n",
       "      <th>created_at</th>\n",
       "      <th>description</th>\n",
       "      <th>follower_count</th>\n",
       "      <th>friend_count</th>\n",
       "      <th>is_sensitive</th>\n",
       "      <th>language</th>\n",
       "      <th>name</th>\n",
       "      <th>place</th>\n",
       "      <th>screen_name</th>\n",
       "      <th>time_zone</th>\n",
       "      <th>timestamp</th>\n",
       "      <th>twitter_id</th>\n",
       "      <th>user_id</th>\n",
       "      <th>user_text</th>\n",
       "    </tr>\n",
       "  </thead>\n",
       "  <tbody>\n",
       "    <tr>\n",
       "      <th>0</th>\n",
       "      <td>2017-04-01 08:54:08</td>\n",
       "      <td>None</td>\n",
       "      <td>None</td>\n",
       "      <td>None</td>\n",
       "      <td>None</td>\n",
       "      <td>en</td>\n",
       "      <td>alyra 🥀</td>\n",
       "      <td>None</td>\n",
       "      <td>goldenhickey</td>\n",
       "      <td>None</td>\n",
       "      <td>1491036848930</td>\n",
       "      <td>848096130072068096</td>\n",
       "      <td>4477510398</td>\n",
       "      <td>RT @KomptonMusic: Fifth Harmony is the reason ...</td>\n",
       "    </tr>\n",
       "    <tr>\n",
       "      <th>1</th>\n",
       "      <td>2017-04-01 08:54:12</td>\n",
       "      <td>None</td>\n",
       "      <td>None</td>\n",
       "      <td>None</td>\n",
       "      <td>False</td>\n",
       "      <td>nl</td>\n",
       "      <td>El Cid</td>\n",
       "      <td>None</td>\n",
       "      <td>weijers3</td>\n",
       "      <td>None</td>\n",
       "      <td>1491036852933</td>\n",
       "      <td>848096146862067712</td>\n",
       "      <td>2256239927</td>\n",
       "      <td>RT @DrGertJanMulder: Uw politiek democratisch ...</td>\n",
       "    </tr>\n",
       "    <tr>\n",
       "      <th>2</th>\n",
       "      <td>2017-04-01 08:54:14</td>\n",
       "      <td>None</td>\n",
       "      <td>None</td>\n",
       "      <td>None</td>\n",
       "      <td>False</td>\n",
       "      <td>en</td>\n",
       "      <td>just .. محمد</td>\n",
       "      <td>None</td>\n",
       "      <td>1406Mo</td>\n",
       "      <td>None</td>\n",
       "      <td>1491036854075</td>\n",
       "      <td>848096151651876864</td>\n",
       "      <td>305455401</td>\n",
       "      <td>RT @TonyDuheaume: Iran’s Links to Al-Qaeda – i...</td>\n",
       "    </tr>\n",
       "    <tr>\n",
       "      <th>3</th>\n",
       "      <td>2017-04-01 08:54:21</td>\n",
       "      <td>None</td>\n",
       "      <td>None</td>\n",
       "      <td>None</td>\n",
       "      <td>None</td>\n",
       "      <td>en</td>\n",
       "      <td>Michel Verrier</td>\n",
       "      <td>None</td>\n",
       "      <td>Michel_Verrier</td>\n",
       "      <td>None</td>\n",
       "      <td>1491036861690</td>\n",
       "      <td>848096183591501824</td>\n",
       "      <td>2589643249</td>\n",
       "      <td>RT @GebeilyM: “I do oppose all American presen...</td>\n",
       "    </tr>\n",
       "    <tr>\n",
       "      <th>4</th>\n",
       "      <td>2017-04-01 08:54:25</td>\n",
       "      <td>None</td>\n",
       "      <td>None</td>\n",
       "      <td>None</td>\n",
       "      <td>False</td>\n",
       "      <td>en</td>\n",
       "      <td>M K Suraj</td>\n",
       "      <td>None</td>\n",
       "      <td>suraj_mk</td>\n",
       "      <td>None</td>\n",
       "      <td>1491036865380</td>\n",
       "      <td>848096199068569601</td>\n",
       "      <td>1138764877</td>\n",
       "      <td>RT @Newsweek: ISIS propaganda team who \"brainw...</td>\n",
       "    </tr>\n",
       "  </tbody>\n",
       "</table>\n",
       "</div>"
      ],
      "text/plain": [
       "            created_at description follower_count friend_count is_sensitive  \\\n",
       "0  2017-04-01 08:54:08        None           None         None         None   \n",
       "1  2017-04-01 08:54:12        None           None         None        False   \n",
       "2  2017-04-01 08:54:14        None           None         None        False   \n",
       "3  2017-04-01 08:54:21        None           None         None         None   \n",
       "4  2017-04-01 08:54:25        None           None         None        False   \n",
       "\n",
       "  language            name place     screen_name time_zone      timestamp  \\\n",
       "0       en         alyra 🥀  None    goldenhickey      None  1491036848930   \n",
       "1       nl          El Cid  None        weijers3      None  1491036852933   \n",
       "2       en    just .. محمد  None          1406Mo      None  1491036854075   \n",
       "3       en  Michel Verrier  None  Michel_Verrier      None  1491036861690   \n",
       "4       en       M K Suraj  None        suraj_mk      None  1491036865380   \n",
       "\n",
       "           twitter_id     user_id  \\\n",
       "0  848096130072068096  4477510398   \n",
       "1  848096146862067712  2256239927   \n",
       "2  848096151651876864   305455401   \n",
       "3  848096183591501824  2589643249   \n",
       "4  848096199068569601  1138764877   \n",
       "\n",
       "                                           user_text  \n",
       "0  RT @KomptonMusic: Fifth Harmony is the reason ...  \n",
       "1  RT @DrGertJanMulder: Uw politiek democratisch ...  \n",
       "2  RT @TonyDuheaume: Iran’s Links to Al-Qaeda – i...  \n",
       "3  RT @GebeilyM: “I do oppose all American presen...  \n",
       "4  RT @Newsweek: ISIS propaganda team who \"brainw...  "
      ]
     },
     "execution_count": 22,
     "metadata": {},
     "output_type": "execute_result"
    }
   ],
   "source": [
    "twitter_df2.head()"
   ]
  },
  {
   "cell_type": "markdown",
   "metadata": {},
   "source": [
    "### Predict on new tweets based on training data"
   ]
  },
  {
   "cell_type": "code",
   "execution_count": 23,
   "metadata": {
    "collapsed": true
   },
   "outputs": [],
   "source": [
    "new_predictions = model.predict(vectorizer.transform(twitter_df2.user_text))"
   ]
  },
  {
   "cell_type": "code",
   "execution_count": 24,
   "metadata": {
    "collapsed": true
   },
   "outputs": [],
   "source": [
    "terror_df = indicies(twitter_df2,new_predictions)"
   ]
  },
  {
   "cell_type": "markdown",
   "metadata": {},
   "source": [
    "### Dataframe of newly identified accounts that list other suspicious accounts"
   ]
  },
  {
   "cell_type": "code",
   "execution_count": 25,
   "metadata": {},
   "outputs": [
    {
     "data": {
      "text/html": [
       "<div>\n",
       "<style>\n",
       "    .dataframe thead tr:only-child th {\n",
       "        text-align: right;\n",
       "    }\n",
       "\n",
       "    .dataframe thead th {\n",
       "        text-align: left;\n",
       "    }\n",
       "\n",
       "    .dataframe tbody tr th {\n",
       "        vertical-align: top;\n",
       "    }\n",
       "</style>\n",
       "<table border=\"1\" class=\"dataframe\">\n",
       "  <thead>\n",
       "    <tr style=\"text-align: right;\">\n",
       "      <th></th>\n",
       "      <th>created_at</th>\n",
       "      <th>description</th>\n",
       "      <th>follower_count</th>\n",
       "      <th>friend_count</th>\n",
       "      <th>is_sensitive</th>\n",
       "      <th>language</th>\n",
       "      <th>name</th>\n",
       "      <th>place</th>\n",
       "      <th>screen_name</th>\n",
       "      <th>time_zone</th>\n",
       "      <th>timestamp</th>\n",
       "      <th>twitter_id</th>\n",
       "      <th>user_id</th>\n",
       "      <th>user_text</th>\n",
       "    </tr>\n",
       "  </thead>\n",
       "  <tbody>\n",
       "    <tr>\n",
       "      <th>35</th>\n",
       "      <td>2017-04-01 08:56:02</td>\n",
       "      <td>None</td>\n",
       "      <td>None</td>\n",
       "      <td>None</td>\n",
       "      <td>False</td>\n",
       "      <td>en</td>\n",
       "      <td>CtrlSec</td>\n",
       "      <td>None</td>\n",
       "      <td>CtrlSec</td>\n",
       "      <td>None</td>\n",
       "      <td>1491036962618</td>\n",
       "      <td>848096606914326528</td>\n",
       "      <td>3012875395</td>\n",
       "      <td>Targeted #ISIS accounts\\nhttps://t.co/MPybsxo4...</td>\n",
       "    </tr>\n",
       "    <tr>\n",
       "      <th>38</th>\n",
       "      <td>2017-04-01 08:56:14</td>\n",
       "      <td>None</td>\n",
       "      <td>None</td>\n",
       "      <td>None</td>\n",
       "      <td>False</td>\n",
       "      <td>en</td>\n",
       "      <td>cyberahsokatano</td>\n",
       "      <td>None</td>\n",
       "      <td>cyberahsokatano</td>\n",
       "      <td>None</td>\n",
       "      <td>1491036974497</td>\n",
       "      <td>848096656738455552</td>\n",
       "      <td>183757658</td>\n",
       "      <td>From ctrlsec2 Targeted #ISIS accounts\\nhttps:/...</td>\n",
       "    </tr>\n",
       "    <tr>\n",
       "      <th>72</th>\n",
       "      <td>2017-04-01 08:58:04</td>\n",
       "      <td>None</td>\n",
       "      <td>None</td>\n",
       "      <td>None</td>\n",
       "      <td>False</td>\n",
       "      <td>en</td>\n",
       "      <td>♚✩ Faisal</td>\n",
       "      <td>None</td>\n",
       "      <td>Faisal5O1</td>\n",
       "      <td>None</td>\n",
       "      <td>1491037084137</td>\n",
       "      <td>848097116601954305</td>\n",
       "      <td>1722952628</td>\n",
       "      <td>@Support \\n#OpISIS #SA_S_I_C\\n#ISIS accounts\\n...</td>\n",
       "    </tr>\n",
       "    <tr>\n",
       "      <th>87</th>\n",
       "      <td>2017-04-01 08:59:04</td>\n",
       "      <td>None</td>\n",
       "      <td>None</td>\n",
       "      <td>None</td>\n",
       "      <td>False</td>\n",
       "      <td>en</td>\n",
       "      <td>🔱🌜🌚🌛 🔱</td>\n",
       "      <td>None</td>\n",
       "      <td>sunny_wantsome</td>\n",
       "      <td>None</td>\n",
       "      <td>1491037144797</td>\n",
       "      <td>848097371028434944</td>\n",
       "      <td>14732713</td>\n",
       "      <td>⛔ISIS\\n\\n➡https://t.co/rvSXzh1edv\\n🆔https://t....</td>\n",
       "    </tr>\n",
       "    <tr>\n",
       "      <th>105</th>\n",
       "      <td>2017-04-01 09:00:09</td>\n",
       "      <td>None</td>\n",
       "      <td>None</td>\n",
       "      <td>None</td>\n",
       "      <td>False</td>\n",
       "      <td>en</td>\n",
       "      <td>CtrlSec</td>\n",
       "      <td>None</td>\n",
       "      <td>CtrlSec</td>\n",
       "      <td>None</td>\n",
       "      <td>1491037209665</td>\n",
       "      <td>848097643104481280</td>\n",
       "      <td>3012875395</td>\n",
       "      <td>Targeted #ISIS accounts\\nhttps://t.co/ldChL1Kh...</td>\n",
       "    </tr>\n",
       "  </tbody>\n",
       "</table>\n",
       "</div>"
      ],
      "text/plain": [
       "              created_at description follower_count friend_count is_sensitive  \\\n",
       "35   2017-04-01 08:56:02        None           None         None        False   \n",
       "38   2017-04-01 08:56:14        None           None         None        False   \n",
       "72   2017-04-01 08:58:04        None           None         None        False   \n",
       "87   2017-04-01 08:59:04        None           None         None        False   \n",
       "105  2017-04-01 09:00:09        None           None         None        False   \n",
       "\n",
       "    language             name place      screen_name time_zone      timestamp  \\\n",
       "35        en          CtrlSec  None          CtrlSec      None  1491036962618   \n",
       "38        en  cyberahsokatano  None  cyberahsokatano      None  1491036974497   \n",
       "72        en        ♚✩ Faisal  None        Faisal5O1      None  1491037084137   \n",
       "87        en           🔱🌜🌚🌛 🔱  None   sunny_wantsome      None  1491037144797   \n",
       "105       en          CtrlSec  None          CtrlSec      None  1491037209665   \n",
       "\n",
       "             twitter_id     user_id  \\\n",
       "35   848096606914326528  3012875395   \n",
       "38   848096656738455552   183757658   \n",
       "72   848097116601954305  1722952628   \n",
       "87   848097371028434944    14732713   \n",
       "105  848097643104481280  3012875395   \n",
       "\n",
       "                                             user_text  \n",
       "35   Targeted #ISIS accounts\\nhttps://t.co/MPybsxo4...  \n",
       "38   From ctrlsec2 Targeted #ISIS accounts\\nhttps:/...  \n",
       "72   @Support \\n#OpISIS #SA_S_I_C\\n#ISIS accounts\\n...  \n",
       "87   ⛔ISIS\\n\\n➡https://t.co/rvSXzh1edv\\n🆔https://t....  \n",
       "105  Targeted #ISIS accounts\\nhttps://t.co/ldChL1Kh...  "
      ]
     },
     "execution_count": 25,
     "metadata": {},
     "output_type": "execute_result"
    }
   ],
   "source": [
    "terror_df.head()"
   ]
  },
  {
   "cell_type": "markdown",
   "metadata": {},
   "source": [
    "### Visualization of user profiles who report suspicous accounts"
   ]
  },
  {
   "cell_type": "code",
   "execution_count": 26,
   "metadata": {},
   "outputs": [
    {
     "data": {
      "image/png": "[encoded data removed]",
      "text/plain": [
       "<matplotlib.figure.Figure at 0x11cf83a58>"
      ]
     },
     "metadata": {},
     "output_type": "display_data"
    }
   ],
   "source": [
    "seaborn_graph('frequency', 'screen_name',df_to_vc_df(terror_df,'screen_name','screen_name','frequency'),'Screen_Name of User Reporting Terrorist Accounts','Frequency','Screen_Name')"
   ]
  },
  {
   "cell_type": "code",
   "execution_count": 27,
   "metadata": {},
   "outputs": [
    {
     "data": {
      "image/png": "[encoded data removed]",
      "text/plain": [
       "<matplotlib.figure.Figure at 0x11f08a198>"
      ]
     },
     "metadata": {},
     "output_type": "display_data"
    }
   ],
   "source": [
    "seaborn_graph('frequency', 'name',df_to_vc_df(terror_df,'name','name','frequency'),'User Name Reporting Terrorist Accounts','Frequency','Name')"
   ]
  },
  {
   "cell_type": "code",
   "execution_count": 28,
   "metadata": {},
   "outputs": [
    {
     "data": {
      "image/png": "[encoded data removed]",
      "text/plain": [
       "<matplotlib.figure.Figure at 0x11f08a0b8>"
      ]
     },
     "metadata": {},
     "output_type": "display_data"
    }
   ],
   "source": [
    "seaborn_graph('frequency','language',df_to_vc_df(terror_df,'language','language','frequency'),'Users Reporting Accounts By Lang','Language','Frequency')"
   ]
  },
  {
   "cell_type": "code",
   "execution_count": 89,
   "metadata": {
    "collapsed": true
   },
   "outputs": [],
   "source": [
    "sentiments(terror_df)"
   ]
  },
  {
   "cell_type": "markdown",
   "metadata": {},
   "source": [
    "### List of suspended accounts from users who report them"
   ]
  },
  {
   "cell_type": "code",
   "execution_count": 30,
   "metadata": {
    "scrolled": true
   },
   "outputs": [
    {
     "data": {
      "text/plain": [
       "['https://t.co/MPybsxo4u3',\n",
       " 'https://t.co/DliGKkhZHD',\n",
       " 'https://t.co/eCsQOfiMbr']"
      ]
     },
     "execution_count": 30,
     "metadata": {},
     "output_type": "execute_result"
    }
   ],
   "source": [
    "suspended_accounts(terror_df)[:3]"
   ]
  },
  {
   "cell_type": "markdown",
   "metadata": {},
   "source": [
    "### New Functions to scrape accounts that have not already been suspended"
   ]
  },
  {
   "cell_type": "code",
   "execution_count": 33,
   "metadata": {
    "collapsed": true
   },
   "outputs": [],
   "source": [
    "import requests\n",
    "\n",
    "def cleaned_suspended_account(accounts):\n",
    "    n_list = []\n",
    "    for value in accounts:\n",
    "        v = value.replace('➡','').replace('🆔','')\n",
    "        if (range(len(v))) == range(0,23):\n",
    "            n_list.append(v)\n",
    "    return n_list\n",
    "\n",
    "c_list = cleaned_suspended_account(suspended_accounts(terror_df))\n",
    "\n",
    "def user_list(all_http_sites):\n",
    "    import re\n",
    "    import requests\n",
    "    from bs4 import BeautifulSoup\n",
    "    \n",
    "    terrorist_user_names=[]\n",
    "\n",
    "    for website in all_http_sites:\n",
    "        req = requests.get(str(website))\n",
    "        sop = BeautifulSoup(req.text, 'html.parser')\n",
    "        for link in sop.find_all('a'):\n",
    "            if \"user-profile-link\" in str(link):\n",
    "                matches = re.findall('screen_name=\\w*', str(link))\n",
    "                matches = str(matches).replace('screen_name=','')\n",
    "                if matches:\n",
    "                    terrorist_user_names.append(matches)\n",
    "                    break\n",
    "                break\n",
    "\n",
    "    terrorist_user_names = list(set(terrorist_user_names))\n",
    "\n",
    "    cleaned_list = []\n",
    "    for name in terrorist_user_names:\n",
    "        cleaned_list.append(name.replace('[','').replace(']','').replace(\"'\",''))\n",
    "    return cleaned_list\n",
    "\n",
    "def get_arabic_text(user_names):\n",
    "    from bs4 import BeautifulSoup\n",
    "    import requests\n",
    "    \n",
    "    twitter_path = 'https://twitter.com/'\n",
    "    docs = []\n",
    "    for user in user_names:\n",
    "        paragraphs = []\n",
    "        r = requests.get(twitter_path+user)\n",
    "        soup = BeautifulSoup(r.text, 'html.parser')\n",
    "        length = len(soup.find_all('p'))\n",
    "        count = 0\n",
    "        for link in soup.find_all('p'):\n",
    "            count += 1\n",
    "            if count == length:\n",
    "                docs.append(paragraphs) \n",
    "                paragraphs = []\n",
    "            else:\n",
    "                paragraphs.append(link)\n",
    "    \n",
    "    return docs"
   ]
  },
  {
   "cell_type": "code",
   "execution_count": 36,
   "metadata": {},
   "outputs": [],
   "source": [
    "# get_arabic_text(user_list(c_list))"
   ]
  },
  {
   "cell_type": "markdown",
   "metadata": {},
   "source": [
    "#### documents with arabic text"
   ]
  },
  {
   "cell_type": "code",
   "execution_count": 37,
   "metadata": {
    "collapsed": true
   },
   "outputs": [],
   "source": [
    "docs = get_arabic_text(user_list(c_list))"
   ]
  },
  {
   "cell_type": "code",
   "execution_count": 38,
   "metadata": {
    "collapsed": true
   },
   "outputs": [],
   "source": [
    "stuff = ['<','>','%','=','\"','!','?','.','/','-','0','1','2','3','4','5','6','7','8','9','#','_', '',':','a','b','c','d','e','f','g','h','i','j','k','l','m','n','o','p','q','r','s','t','u','v','w','x','y','z','<','>','=','%']\n",
    "arabic_sentences = {}\n",
    "comments = []\n",
    "polarity = []\n",
    "subjectivity = []\n",
    "for i in range(len(docs)):\n",
    "    for j in range(len(docs[i])):\n",
    "        if 'ال' in str(docs[i][j]):  #look for anything that begins with these characters \n",
    "            line = str(docs[i][j])\n",
    "            for item in stuff:\n",
    "                line = line.lower().replace(str(item),'')\n",
    "            blob = TextBlob(line)\n",
    "            arabic_to_english = blob.translate(to=\"en\")\n",
    "#             print (arabic_to_english)\n",
    "            comments.append(arabic_to_english)\n",
    "            polar, subj = arabic_to_english.sentiment\n",
    "            polarity.append(polar)\n",
    "            subjectivity.append(subj)\n",
    "\n",
    "            arabic_sentences[j] = line\n",
    "\n",
    "arabic_sentences\n",
    "\n",
    "df3 = {'comments': comments,'polarity':polarity,'subjectivity':subjectivity}\n",
    "terror_frame = pd.DataFrame(data=df3)"
   ]
  },
  {
   "cell_type": "markdown",
   "metadata": {},
   "source": [
    "### Translate the Parsed Arabic Comments in the associated dataframe. "
   ]
  },
  {
   "cell_type": "code",
   "execution_count": 39,
   "metadata": {
    "collapsed": true
   },
   "outputs": [],
   "source": [
    "translated_text = []\n",
    "for i in range(len(terror_frame.comments)):\n",
    "    translated_text.append(str(terror_frame.comments[i]))\n",
    "#     print ('Comment:',i)\n",
    "#     print (terror_frame.comments[i])\n",
    "#     print('')\n",
    "\n",
    "stuff = []\n",
    "for i in translated_text:\n",
    "    stuff.append(i.replace('\\n',' ').replace('\\xa0',' ').replace('()',''))"
   ]
  },
  {
   "cell_type": "code",
   "execution_count": 40,
   "metadata": {},
   "outputs": [
    {
     "name": "stdout",
     "output_type": "stream",
     "text": [
      "COMMENT 0\n",
      "As a matter of pain my mother hugged her instead of me   [Anonymus retired ,,, Technician 💧]\n",
      "\n",
      "COMMENT 1\n",
      "How to cancel application permissions Delete suspicious applications sites 🔴 🔴  Diq Al-Taqni (Osama Al-Dawawi)  👇 👇\n",
      "\n",
      "COMMENT 2\n",
      "If you are a Saudi programmer or Android and unemployed and work with us, we provide you with the opportunity to create applications using the @\n",
      "\n"
     ]
    }
   ],
   "source": [
    "for i in range(0,3):\n",
    "    print ('COMMENT', i)\n",
    "    print (stuff[i])\n",
    "    print ('')"
   ]
  },
  {
   "cell_type": "markdown",
   "metadata": {},
   "source": [
    "### Label the comments within the reported accounts as potentially terrorist-like"
   ]
  },
  {
   "cell_type": "code",
   "execution_count": 41,
   "metadata": {
    "collapsed": true
   },
   "outputs": [],
   "source": [
    "y2 = [0,0,0,0,0,0,0,0,0,0,0,0,0,0,0,0,0,0,1,0,0,0,0,0,0,0,0,1,1,0,0,1,0,0,0,1,0,0,0,0,0,1,0,1,0,0,0,0,0,0,1,1,1,0,1,0,0,0,0,0,0,0,0,1,1,0,1,0,0,1,0,0,0,0,0,0,1]"
   ]
  },
  {
   "cell_type": "markdown",
   "metadata": {},
   "source": [
    "#### Dataframe of comments and associated labels that denote suspicious comments"
   ]
  },
  {
   "cell_type": "code",
   "execution_count": 42,
   "metadata": {},
   "outputs": [
    {
     "name": "stdout",
     "output_type": "stream",
     "text": [
      "71\n",
      "77\n"
     ]
    }
   ],
   "source": [
    "print (len(stuff))\n",
    "print (len(y2))"
   ]
  },
  {
   "cell_type": "code",
   "execution_count": 147,
   "metadata": {},
   "outputs": [
    {
     "data": {
      "text/html": [
       "<div>\n",
       "<style>\n",
       "    .dataframe thead tr:only-child th {\n",
       "        text-align: right;\n",
       "    }\n",
       "\n",
       "    .dataframe thead th {\n",
       "        text-align: left;\n",
       "    }\n",
       "\n",
       "    .dataframe tbody tr th {\n",
       "        vertical-align: top;\n",
       "    }\n",
       "</style>\n",
       "<table border=\"1\" class=\"dataframe\">\n",
       "  <thead>\n",
       "    <tr style=\"text-align: right;\">\n",
       "      <th></th>\n",
       "      <th>arabic_comments</th>\n",
       "      <th>labels</th>\n",
       "    </tr>\n",
       "  </thead>\n",
       "  <tbody>\n",
       "    <tr>\n",
       "      <th>0</th>\n",
       "      <td>I beg you from occupied Syria, a mediaman from...</td>\n",
       "      <td>0</td>\n",
       "    </tr>\n",
       "    <tr>\n",
       "      <th>1</th>\n",
       "      <td>Horrific moments passed by a courageous photog...</td>\n",
       "      <td>0</td>\n",
       "    </tr>\n",
       "    <tr>\n",
       "      <th>2</th>\n",
       "      <td>A man was kidnapped yesterday in the eastern H...</td>\n",
       "      <td>0</td>\n",
       "    </tr>\n",
       "    <tr>\n",
       "      <th>3</th>\n",
       "      <td>@ Alleh prove little Deir Deirzour and the res...</td>\n",
       "      <td>0</td>\n",
       "    </tr>\n",
       "    <tr>\n",
       "      <th>4</th>\n",
       "      <td>Netanyahu will not allow Iran to be militarily...</td>\n",
       "      <td>0</td>\n",
       "    </tr>\n",
       "  </tbody>\n",
       "</table>\n",
       "</div>"
      ],
      "text/plain": [
       "                                     arabic_comments  labels\n",
       "0  I beg you from occupied Syria, a mediaman from...       0\n",
       "1  Horrific moments passed by a courageous photog...       0\n",
       "2  A man was kidnapped yesterday in the eastern H...       0\n",
       "3  @ Alleh prove little Deir Deirzour and the res...       0\n",
       "4  Netanyahu will not allow Iran to be militarily...       0"
      ]
     },
     "execution_count": 147,
     "metadata": {},
     "output_type": "execute_result"
    }
   ],
   "source": [
    "df4 = {'arabic_comments': stuff,'labels':y2}\n",
    "twitter_df4 = pd.DataFrame(data=df4)\n",
    "twitter_df4.head()"
   ]
  },
  {
   "cell_type": "markdown",
   "metadata": {},
   "source": [
    "### Scrape a new account that might be suspicous \n",
    "#### (this could be anyone on Twitter you may find suspicious)"
   ]
  },
  {
   "cell_type": "code",
   "execution_count": 148,
   "metadata": {
    "collapsed": true
   },
   "outputs": [],
   "source": [
    "from bs4 import BeautifulSoup\n",
    "import requests\n",
    "\n",
    "web10 = 'https://twitter.com/Mema_0PS' ##I searched for an account that might be suspect to determine model worked\n",
    "web11 = ''\n",
    "\n",
    "website_list = [web10]\n",
    "\n",
    "docs1 = []\n",
    "for web in website_list:\n",
    "    paragraphs = []\n",
    "    r = requests.get(web)\n",
    "    soup = BeautifulSoup(r.text, 'html.parser')\n",
    "    length = len(soup.find_all('p'))\n",
    "    count = 0\n",
    "    for link in soup.find_all('p'):\n",
    "        count += 1\n",
    "        if count == length:\n",
    "            docs1.append(paragraphs) \n",
    "            paragraphs = []\n",
    "        else:\n",
    "            paragraphs.append(link)"
   ]
  },
  {
   "cell_type": "code",
   "execution_count": 149,
   "metadata": {
    "collapsed": true
   },
   "outputs": [],
   "source": [
    "def new_comments(list_of_comments):\n",
    "    stuff = ['<','>','%','=','\"','!','?','.','/','-','0','1','2','3','4','5','6','7','8','9','#','_', '',':','a','b','c','d','e','f','g','h','i','j','k','l','m','n','o','p','q','r','s','t','u','v','w','x','y','z','<','>','=','%']\n",
    "    arabic_sentences = {}\n",
    "    comments = []\n",
    "    polarity = []\n",
    "    subjectivity = []\n",
    "    for i in range(len(list_of_comments)):\n",
    "        for j in range(len(list_of_comments[i])):\n",
    "            if 'ال' in str(list_of_comments[i][j]):\n",
    "                line = str(list_of_comments[i][j])\n",
    "                for item in stuff:\n",
    "                    line = line.lower().replace(str(item),'')\n",
    "                blob = TextBlob(line)\n",
    "                arabic_to_english = blob.translate(to=\"en\")\n",
    "    #             print (arabic_to_english)\n",
    "                comments.append(arabic_to_english)\n",
    "                polar, subj = arabic_to_english.sentiment\n",
    "                polarity.append(polar)\n",
    "                subjectivity.append(subj)\n",
    "\n",
    "                arabic_sentences[j] = line\n",
    "\n",
    "    arabic_sentences\n",
    "\n",
    "    df3 = {'comments': comments,'polarity':polarity,'subjectivity':subjectivity}\n",
    "    terror_frame = pd.DataFrame(data=df3)\n",
    "    return terror_frame"
   ]
  },
  {
   "cell_type": "code",
   "execution_count": 150,
   "metadata": {},
   "outputs": [
    {
     "data": {
      "text/html": [
       "<div>\n",
       "<style>\n",
       "    .dataframe thead tr:only-child th {\n",
       "        text-align: right;\n",
       "    }\n",
       "\n",
       "    .dataframe thead th {\n",
       "        text-align: left;\n",
       "    }\n",
       "\n",
       "    .dataframe tbody tr th {\n",
       "        vertical-align: top;\n",
       "    }\n",
       "</style>\n",
       "<table border=\"1\" class=\"dataframe\">\n",
       "  <thead>\n",
       "    <tr style=\"text-align: right;\">\n",
       "      <th></th>\n",
       "      <th>comments</th>\n",
       "      <th>polarity</th>\n",
       "      <th>subjectivity</th>\n",
       "    </tr>\n",
       "  </thead>\n",
       "  <tbody>\n",
       "    <tr>\n",
       "      <th>0</th>\n",
       "      <td>(O, u, r,  , l, o, v, e, d,  , o, n, e, s,  , ...</td>\n",
       "      <td>0.650000</td>\n",
       "      <td>0.850000</td>\n",
       "    </tr>\n",
       "    <tr>\n",
       "      <th>1</th>\n",
       "      <td>(O, h,  , A, l, l, a, h, ,,  , h, a, v, e,  , ...</td>\n",
       "      <td>0.225000</td>\n",
       "      <td>0.425000</td>\n",
       "    </tr>\n",
       "    <tr>\n",
       "      <th>2</th>\n",
       "      <td>(O,  , A, l, l, a, h, ,,  , f, o, r, g, i, v, ...</td>\n",
       "      <td>0.000000</td>\n",
       "      <td>0.000000</td>\n",
       "    </tr>\n",
       "    <tr>\n",
       "      <th>3</th>\n",
       "      <td>(P, r, a, i, s, e,  , t, o,  , A, l, l, a, h, ...</td>\n",
       "      <td>0.000000</td>\n",
       "      <td>0.000000</td>\n",
       "    </tr>\n",
       "    <tr>\n",
       "      <th>4</th>\n",
       "      <td>(H, a, m, a, s,  , m, o, v, e, m, e, n, t,  , ...</td>\n",
       "      <td>0.000000</td>\n",
       "      <td>0.000000</td>\n",
       "    </tr>\n",
       "    <tr>\n",
       "      <th>5</th>\n",
       "      <td>(O, h,  , G, o, d, ,,  , h, e, a, l,  , t, h, ...</td>\n",
       "      <td>0.000000</td>\n",
       "      <td>0.000000</td>\n",
       "    </tr>\n",
       "    <tr>\n",
       "      <th>6</th>\n",
       "      <td>(B, e, a, u, t, i, f, u, l,  , m, o, r, n, i, ...</td>\n",
       "      <td>0.425000</td>\n",
       "      <td>0.800000</td>\n",
       "    </tr>\n",
       "    <tr>\n",
       "      <th>7</th>\n",
       "      <td>(O,  , A, l, l, a, h, ,,  , b, l, e, s, s,  , ...</td>\n",
       "      <td>1.000000</td>\n",
       "      <td>0.300000</td>\n",
       "    </tr>\n",
       "    <tr>\n",
       "      <th>8</th>\n",
       "      <td>(W, h, y,  , d, o,  , t, h, e,  , S, a, l, a, ...</td>\n",
       "      <td>0.000000</td>\n",
       "      <td>0.000000</td>\n",
       "    </tr>\n",
       "    <tr>\n",
       "      <th>9</th>\n",
       "      <td>(E, d, i, t,  , غ, ز, ة,  , و, ا, ل, ك, ذ, ب, ...</td>\n",
       "      <td>0.000000</td>\n",
       "      <td>0.000000</td>\n",
       "    </tr>\n",
       "    <tr>\n",
       "      <th>10</th>\n",
       "      <td>(T, h, i, s,  , i, s,  , m, y,  , p, a, s, s, ...</td>\n",
       "      <td>0.495238</td>\n",
       "      <td>0.645238</td>\n",
       "    </tr>\n",
       "    <tr>\n",
       "      <th>11</th>\n",
       "      <td>(T, h, e,  , d, e, p, a, r, t, u, r, e,  , o, ...</td>\n",
       "      <td>0.127500</td>\n",
       "      <td>0.680000</td>\n",
       "    </tr>\n",
       "    <tr>\n",
       "      <th>12</th>\n",
       "      <td>(I,  , m, i, s, s, e, d,  , t, h, e,  , v, i, ...</td>\n",
       "      <td>0.000000</td>\n",
       "      <td>0.000000</td>\n",
       "    </tr>\n",
       "    <tr>\n",
       "      <th>13</th>\n",
       "      <td>(O, h,  , G, o, d, ,,  , w, e,  , a, s, k,  , ...</td>\n",
       "      <td>0.000000</td>\n",
       "      <td>0.000000</td>\n",
       "    </tr>\n",
       "    <tr>\n",
       "      <th>14</th>\n",
       "      <td>(P, r, a, i, s, e,  , b, e,  , t, o,  , G, o, d)</td>\n",
       "      <td>0.000000</td>\n",
       "      <td>0.000000</td>\n",
       "    </tr>\n",
       "    <tr>\n",
       "      <th>15</th>\n",
       "      <td>(T, h, o, s, e,  , w, h, o,  , a, r, e,  , p, ...</td>\n",
       "      <td>-0.125000</td>\n",
       "      <td>0.375000</td>\n",
       "    </tr>\n",
       "    <tr>\n",
       "      <th>16</th>\n",
       "      <td>(U, n, d, e, r,  , t, h, e,  , a, u, s, p, i, ...</td>\n",
       "      <td>-0.133333</td>\n",
       "      <td>0.400000</td>\n",
       "    </tr>\n",
       "    <tr>\n",
       "      <th>17</th>\n",
       "      <td>(C, u, s, t, o, m, e, r, s,  , m, o, u, r, n, ...</td>\n",
       "      <td>0.000000</td>\n",
       "      <td>0.250000</td>\n",
       "    </tr>\n",
       "    <tr>\n",
       "      <th>18</th>\n",
       "      <td>(P, r, a, i, s, e,  , b, e,  , t, o,  , A, l, ...</td>\n",
       "      <td>0.000000</td>\n",
       "      <td>0.000000</td>\n",
       "    </tr>\n",
       "    <tr>\n",
       "      <th>19</th>\n",
       "      <td>(T, h, e,  , c, u, r, s, e,  , o, f,  , G, o, ...</td>\n",
       "      <td>0.000000</td>\n",
       "      <td>0.000000</td>\n",
       "    </tr>\n",
       "    <tr>\n",
       "      <th>20</th>\n",
       "      <td>(O, h,  , G, o, d, ,,  , y, o, u, r,  , b, l, ...</td>\n",
       "      <td>0.000000</td>\n",
       "      <td>0.000000</td>\n",
       "    </tr>\n",
       "  </tbody>\n",
       "</table>\n",
       "</div>"
      ],
      "text/plain": [
       "                                             comments  polarity  subjectivity\n",
       "0   (O, u, r,  , l, o, v, e, d,  , o, n, e, s,  , ...  0.650000      0.850000\n",
       "1   (O, h,  , A, l, l, a, h, ,,  , h, a, v, e,  , ...  0.225000      0.425000\n",
       "2   (O,  , A, l, l, a, h, ,,  , f, o, r, g, i, v, ...  0.000000      0.000000\n",
       "3   (P, r, a, i, s, e,  , t, o,  , A, l, l, a, h, ...  0.000000      0.000000\n",
       "4   (H, a, m, a, s,  , m, o, v, e, m, e, n, t,  , ...  0.000000      0.000000\n",
       "5   (O, h,  , G, o, d, ,,  , h, e, a, l,  , t, h, ...  0.000000      0.000000\n",
       "6   (B, e, a, u, t, i, f, u, l,  , m, o, r, n, i, ...  0.425000      0.800000\n",
       "7   (O,  , A, l, l, a, h, ,,  , b, l, e, s, s,  , ...  1.000000      0.300000\n",
       "8   (W, h, y,  , d, o,  , t, h, e,  , S, a, l, a, ...  0.000000      0.000000\n",
       "9   (E, d, i, t,  , غ, ز, ة,  , و, ا, ل, ك, ذ, ب, ...  0.000000      0.000000\n",
       "10  (T, h, i, s,  , i, s,  , m, y,  , p, a, s, s, ...  0.495238      0.645238\n",
       "11  (T, h, e,  , d, e, p, a, r, t, u, r, e,  , o, ...  0.127500      0.680000\n",
       "12  (I,  , m, i, s, s, e, d,  , t, h, e,  , v, i, ...  0.000000      0.000000\n",
       "13  (O, h,  , G, o, d, ,,  , w, e,  , a, s, k,  , ...  0.000000      0.000000\n",
       "14   (P, r, a, i, s, e,  , b, e,  , t, o,  , G, o, d)  0.000000      0.000000\n",
       "15  (T, h, o, s, e,  , w, h, o,  , a, r, e,  , p, ... -0.125000      0.375000\n",
       "16  (U, n, d, e, r,  , t, h, e,  , a, u, s, p, i, ... -0.133333      0.400000\n",
       "17  (C, u, s, t, o, m, e, r, s,  , m, o, u, r, n, ...  0.000000      0.250000\n",
       "18  (P, r, a, i, s, e,  , b, e,  , t, o,  , A, l, ...  0.000000      0.000000\n",
       "19  (T, h, e,  , c, u, r, s, e,  , o, f,  , G, o, ...  0.000000      0.000000\n",
       "20  (O, h,  , G, o, d, ,,  , y, o, u, r,  , b, l, ...  0.000000      0.000000"
      ]
     },
     "execution_count": 150,
     "metadata": {},
     "output_type": "execute_result"
    }
   ],
   "source": [
    "new_comments(docs1)"
   ]
  },
  {
   "cell_type": "code",
   "execution_count": 151,
   "metadata": {
    "collapsed": true
   },
   "outputs": [],
   "source": [
    "translated_text2 = []\n",
    "for i in range(len(new_comments(docs1).comments)):\n",
    "    translated_text2.append(str(new_comments(docs1).comments[i]))\n",
    "#     print ('Comment:',i)\n",
    "#     print (terror_frame.comments[i])\n",
    "#     print('')\n",
    "\n",
    "stuff2 = []\n",
    "for i in translated_text2:\n",
    "    stuff2.append(i.replace('\\n',' ').replace('\\xa0',' ').replace('()',''))"
   ]
  },
  {
   "cell_type": "markdown",
   "metadata": {},
   "source": [
    "### Dataframe of newly translated comments without labels"
   ]
  },
  {
   "cell_type": "code",
   "execution_count": 152,
   "metadata": {},
   "outputs": [
    {
     "data": {
      "text/html": [
       "<div>\n",
       "<style>\n",
       "    .dataframe thead tr:only-child th {\n",
       "        text-align: right;\n",
       "    }\n",
       "\n",
       "    .dataframe thead th {\n",
       "        text-align: left;\n",
       "    }\n",
       "\n",
       "    .dataframe tbody tr th {\n",
       "        vertical-align: top;\n",
       "    }\n",
       "</style>\n",
       "<table border=\"1\" class=\"dataframe\">\n",
       "  <thead>\n",
       "    <tr style=\"text-align: right;\">\n",
       "      <th></th>\n",
       "      <th>arabic_comments</th>\n",
       "    </tr>\n",
       "  </thead>\n",
       "  <tbody>\n",
       "    <tr>\n",
       "      <th>0</th>\n",
       "      <td>Our loved ones went honestly to paradise Throu...</td>\n",
       "    </tr>\n",
       "    <tr>\n",
       "      <th>1</th>\n",
       "      <td>Oh Allah, have mercy on us who have separated ...</td>\n",
       "    </tr>\n",
       "    <tr>\n",
       "      <th>2</th>\n",
       "      <td>O Allah, forgive those who have departed from us</td>\n",
       "    </tr>\n",
       "    <tr>\n",
       "      <th>3</th>\n",
       "      <td>Praise to Allah, Lord of the Worlds</td>\n",
       "    </tr>\n",
       "    <tr>\n",
       "      <th>4</th>\n",
       "      <td>Hamas movement denounces and mocks the soldier...</td>\n",
       "    </tr>\n",
       "  </tbody>\n",
       "</table>\n",
       "</div>"
      ],
      "text/plain": [
       "                                     arabic_comments\n",
       "0  Our loved ones went honestly to paradise Throu...\n",
       "1  Oh Allah, have mercy on us who have separated ...\n",
       "2   O Allah, forgive those who have departed from us\n",
       "3                Praise to Allah, Lord of the Worlds\n",
       "4  Hamas movement denounces and mocks the soldier..."
      ]
     },
     "execution_count": 152,
     "metadata": {},
     "output_type": "execute_result"
    }
   ],
   "source": [
    "df5 = {'arabic_comments': stuff2}\n",
    "twitter_df5 = pd.DataFrame(data=df5)\n",
    "twitter_df5.head()"
   ]
  },
  {
   "cell_type": "markdown",
   "metadata": {
    "collapsed": true
   },
   "source": [
    "### Use labled dataset of suspicious comments in previous account to predict on new comments. Have a threshold for how many comments consistute a flagged account."
   ]
  },
  {
   "cell_type": "code",
   "execution_count": 153,
   "metadata": {
    "collapsed": true
   },
   "outputs": [],
   "source": [
    "#### Vectorizing new comments, splitting them into test-train, "
   ]
  },
  {
   "cell_type": "code",
   "execution_count": 154,
   "metadata": {
    "collapsed": true
   },
   "outputs": [],
   "source": [
    "vectorizer1 = CountVectorizer(max_features=1000,stop_words='english',lowercase=False,strip_accents='unicode')\n",
    "vectorizer1._validate_vocabulary()"
   ]
  },
  {
   "cell_type": "code",
   "execution_count": 155,
   "metadata": {
    "collapsed": true
   },
   "outputs": [],
   "source": [
    "x_train2, x_test2, y_train2, y_test2 = train_test_split(twitter_df4['arabic_comments'],\n",
    "                                        twitter_df4['labels'], test_size=.3,\n",
    "                                        random_state=40)"
   ]
  },
  {
   "cell_type": "code",
   "execution_count": 156,
   "metadata": {
    "collapsed": true
   },
   "outputs": [],
   "source": [
    "X2 = vectorizer.fit_transform(x_train2)\n",
    "x2 = vectorizer.transform(twitter_df5['arabic_comments'])"
   ]
  },
  {
   "cell_type": "code",
   "execution_count": 157,
   "metadata": {
    "collapsed": true
   },
   "outputs": [],
   "source": [
    "final_model = MultinomialNB().fit(X2,y_train2)"
   ]
  },
  {
   "cell_type": "markdown",
   "metadata": {},
   "source": [
    "#### Predict on new tweets whether tweet consitutues a terrorist comment"
   ]
  },
  {
   "cell_type": "code",
   "execution_count": 158,
   "metadata": {
    "collapsed": true
   },
   "outputs": [],
   "source": [
    "new_predictions2 = final_model.predict(x2)"
   ]
  },
  {
   "cell_type": "code",
   "execution_count": 159,
   "metadata": {
    "collapsed": true
   },
   "outputs": [],
   "source": [
    "twitter_df5['labels'] = new_predictions2"
   ]
  },
  {
   "cell_type": "code",
   "execution_count": 160,
   "metadata": {
    "collapsed": true
   },
   "outputs": [],
   "source": [
    "#### New profile of tweets with predicted labels - analyze it."
   ]
  },
  {
   "cell_type": "code",
   "execution_count": 161,
   "metadata": {},
   "outputs": [
    {
     "data": {
      "text/html": [
       "<div>\n",
       "<style>\n",
       "    .dataframe thead tr:only-child th {\n",
       "        text-align: right;\n",
       "    }\n",
       "\n",
       "    .dataframe thead th {\n",
       "        text-align: left;\n",
       "    }\n",
       "\n",
       "    .dataframe tbody tr th {\n",
       "        vertical-align: top;\n",
       "    }\n",
       "</style>\n",
       "<table border=\"1\" class=\"dataframe\">\n",
       "  <thead>\n",
       "    <tr style=\"text-align: right;\">\n",
       "      <th></th>\n",
       "      <th>arabic_comments</th>\n",
       "      <th>labels</th>\n",
       "    </tr>\n",
       "  </thead>\n",
       "  <tbody>\n",
       "    <tr>\n",
       "      <th>0</th>\n",
       "      <td>Our loved ones went honestly to paradise Throu...</td>\n",
       "      <td>0</td>\n",
       "    </tr>\n",
       "    <tr>\n",
       "      <th>1</th>\n",
       "      <td>Oh Allah, have mercy on us who have separated ...</td>\n",
       "      <td>0</td>\n",
       "    </tr>\n",
       "    <tr>\n",
       "      <th>2</th>\n",
       "      <td>O Allah, forgive those who have departed from us</td>\n",
       "      <td>0</td>\n",
       "    </tr>\n",
       "    <tr>\n",
       "      <th>3</th>\n",
       "      <td>Praise to Allah, Lord of the Worlds</td>\n",
       "      <td>0</td>\n",
       "    </tr>\n",
       "    <tr>\n",
       "      <th>4</th>\n",
       "      <td>Hamas movement denounces and mocks the soldier...</td>\n",
       "      <td>0</td>\n",
       "    </tr>\n",
       "    <tr>\n",
       "      <th>5</th>\n",
       "      <td>Oh God, heal the breasts of believers       Wi...</td>\n",
       "      <td>0</td>\n",
       "    </tr>\n",
       "    <tr>\n",
       "      <th>6</th>\n",
       "      <td>Beautiful morning different all its forms vary...</td>\n",
       "      <td>0</td>\n",
       "    </tr>\n",
       "    <tr>\n",
       "      <th>7</th>\n",
       "      <td>O Allah, bless and bless and bless the best of...</td>\n",
       "      <td>0</td>\n",
       "    </tr>\n",
       "    <tr>\n",
       "      <th>8</th>\n",
       "      <td>Why do the Salafists continue to be arrested a...</td>\n",
       "      <td>0</td>\n",
       "    </tr>\n",
       "    <tr>\n",
       "      <th>9</th>\n",
       "      <td>Edit غزة والكذبة الكبرى والهقي المسي ???? The ...</td>\n",
       "      <td>0</td>\n",
       "    </tr>\n",
       "    <tr>\n",
       "      <th>10</th>\n",
       "      <td>This is my passion for love Give it to the lov...</td>\n",
       "      <td>1</td>\n",
       "    </tr>\n",
       "    <tr>\n",
       "      <th>11</th>\n",
       "      <td>The departure of loved ones is a harsh blow, a...</td>\n",
       "      <td>0</td>\n",
       "    </tr>\n",
       "    <tr>\n",
       "      <th>12</th>\n",
       "      <td>I missed the vision of God and derived the vis...</td>\n",
       "      <td>0</td>\n",
       "    </tr>\n",
       "    <tr>\n",
       "      <th>13</th>\n",
       "      <td>Oh God, we ask you to facilitate all our thing...</td>\n",
       "      <td>0</td>\n",
       "    </tr>\n",
       "    <tr>\n",
       "      <th>14</th>\n",
       "      <td>Praise be to God</td>\n",
       "      <td>0</td>\n",
       "    </tr>\n",
       "    <tr>\n",
       "      <th>15</th>\n",
       "      <td>Those who are preoccupied with the Hereafter h...</td>\n",
       "      <td>0</td>\n",
       "    </tr>\n",
       "    <tr>\n",
       "      <th>16</th>\n",
       "      <td>Under the auspices of the intelligence of the ...</td>\n",
       "      <td>0</td>\n",
       "    </tr>\n",
       "    <tr>\n",
       "      <th>17</th>\n",
       "      <td>Customers mourn the ranks of the Brigades, an ...</td>\n",
       "      <td>0</td>\n",
       "    </tr>\n",
       "    <tr>\n",
       "      <th>18</th>\n",
       "      <td>Praise be to Allah, Lord of the Worlds 🌷 👋 📊</td>\n",
       "      <td>0</td>\n",
       "    </tr>\n",
       "    <tr>\n",
       "      <th>19</th>\n",
       "      <td>The curse of God descends on the one who descr...</td>\n",
       "      <td>0</td>\n",
       "    </tr>\n",
       "    <tr>\n",
       "      <th>20</th>\n",
       "      <td>Oh God, your blades and your nag and you fight...</td>\n",
       "      <td>0</td>\n",
       "    </tr>\n",
       "  </tbody>\n",
       "</table>\n",
       "</div>"
      ],
      "text/plain": [
       "                                      arabic_comments  labels\n",
       "0   Our loved ones went honestly to paradise Throu...       0\n",
       "1   Oh Allah, have mercy on us who have separated ...       0\n",
       "2    O Allah, forgive those who have departed from us       0\n",
       "3                 Praise to Allah, Lord of the Worlds       0\n",
       "4   Hamas movement denounces and mocks the soldier...       0\n",
       "5   Oh God, heal the breasts of believers       Wi...       0\n",
       "6   Beautiful morning different all its forms vary...       0\n",
       "7   O Allah, bless and bless and bless the best of...       0\n",
       "8   Why do the Salafists continue to be arrested a...       0\n",
       "9   Edit غزة والكذبة الكبرى والهقي المسي ???? The ...       0\n",
       "10  This is my passion for love Give it to the lov...       1\n",
       "11  The departure of loved ones is a harsh blow, a...       0\n",
       "12  I missed the vision of God and derived the vis...       0\n",
       "13  Oh God, we ask you to facilitate all our thing...       0\n",
       "14                                   Praise be to God       0\n",
       "15  Those who are preoccupied with the Hereafter h...       0\n",
       "16  Under the auspices of the intelligence of the ...       0\n",
       "17  Customers mourn the ranks of the Brigades, an ...       0\n",
       "18       Praise be to Allah, Lord of the Worlds 🌷 👋 📊       0\n",
       "19  The curse of God descends on the one who descr...       0\n",
       "20  Oh God, your blades and your nag and you fight...       0"
      ]
     },
     "execution_count": 161,
     "metadata": {},
     "output_type": "execute_result"
    }
   ],
   "source": [
    "twitter_df5"
   ]
  },
  {
   "cell_type": "code",
   "execution_count": 165,
   "metadata": {},
   "outputs": [
    {
     "data": {
      "text/plain": [
       "'This is my passion for love Give it to the loved ones on the hadith God is my loss and death I have a right       Sinai is the land of retreat       Suhaib 📈'"
      ]
     },
     "execution_count": 165,
     "metadata": {},
     "output_type": "execute_result"
    }
   ],
   "source": [
    "twitter_df5.arabic_comments[10]"
   ]
  },
  {
   "cell_type": "markdown",
   "metadata": {},
   "source": [
    "### Threshold Function"
   ]
  },
  {
   "cell_type": "code",
   "execution_count": 131,
   "metadata": {
    "collapsed": true
   },
   "outputs": [],
   "source": [
    "def identify_threats(df, num, percent):\n",
    "    \"\"\"\n",
    "    INPUT: Dataframe, threshold of how many tweets constitute a terrorist profile, or threshold on what percentage of tweets constitute a terrorist profile\n",
    "    OUTPUT: Decision of whether or not given profile is possible terrorist profile\n",
    "    \"\"\"\n",
    "    r, c = df.shape\n",
    "    loaded_comments = sum(df['labels'])\n",
    "    percent_loaded = loaded_comments / r\n",
    "    if loaded_comments >= num or percent_loaded > percent:\n",
    "        return ('Possible Terrorist')\n",
    "    else:\n",
    "        return ('No Threat')"
   ]
  },
  {
   "cell_type": "code",
   "execution_count": 132,
   "metadata": {},
   "outputs": [
    {
     "data": {
      "text/plain": [
       "'No Threat'"
      ]
     },
     "execution_count": 132,
     "metadata": {},
     "output_type": "execute_result"
    }
   ],
   "source": [
    "identify_threats(twitter_df5,2,.2)"
   ]
  }
 ],
 "metadata": {
  "kernelspec": {
   "display_name": "Python 3",
   "language": "python",
   "name": "python3"
  },
  "language_info": {
   "codemirror_mode": {
    "name": "ipython",
    "version": 3
   },
   "file_extension": ".py",
   "mimetype": "text/x-python",
   "name": "python",
   "nbconvert_exporter": "python",
   "pygments_lexer": "ipython3",
   "version": "3.6.0"
  }
 },
 "nbformat": 4,
 "nbformat_minor": 2
}
